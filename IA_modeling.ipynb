{
 "cells": [
  {
   "cell_type": "markdown",
   "metadata": {},
   "source": [
    "# This notebook does IA modeling.\n",
    "\n",
    "Notebook by: Jonathan Blazek (blazek@berkeley.edu)  \n",
    "FAST-PT on github: https://github.com/JoeMcEwen/FAST-PT  \n",
    "Easy ccl installation in a conda environment: `conda install -c conda-forge pyccl`  \n",
    "Easy fast-pt installation: `pip install fast-pt`  \n",
    "(Note, use `--no-deps` if you use `conda` for most python packages)  \n",
    "Examples available from `examples/` on github"
   ]
  },
  {
   "cell_type": "code",
   "execution_count": 1,
   "metadata": {},
   "outputs": [],
   "source": [
    "# import standard packages\n",
    "import numpy as np\n",
    "import pylab as plt\n",
    "%matplotlib inline\n",
    "\n",
    "# import fastpt\n",
    "import fastpt as fpt\n",
    "import fastpt.HT as HT\n",
    "\n",
    "# import the Core Cosmology Library (CCL) if you have it\n",
    "try:\n",
    "    import pyccl as ccl\n",
    "    import pyccl.ccllib as lib\n",
    "    import pyccl.nl_pt as pt\n",
    "    have_ccl = True\n",
    "except:\n",
    "    have_ccl = False\n",
    "    print('CCL not found. Steps with CCL will be skipped.')\n",
    "\n",
    "# If you want to test HT against external Bessel transform code, e.g. mcfit\n",
    "try:\n",
    "    from mcfit import P2xi\n",
    "    have_mcfit = True\n",
    "except:\n",
    "    have_mcfit = False\n",
    "    print('mcfit not found. Steps with mcfit will be skipped.')"
   ]
  },
  {
   "cell_type": "markdown",
   "metadata": {},
   "source": [
    "<h3> Get $P_{\\rm lin}(k)$ and $P_{\\rm nl}(k)$: </h3>"
   ]
  },
  {
   "cell_type": "code",
   "execution_count": 2,
   "metadata": {},
   "outputs": [],
   "source": [
    "## Get from CCL (which runs CLASS by default)\n",
    "if have_ccl:\n",
    "    # set a cosmologies\n",
    "    cosmo = ccl.Cosmology(Omega_c=0.27, Omega_b=0.045, h=0.67, A_s=2.1e-9, n_s=0.96)\n",
    "    h=0.67\n",
    "\n",
    "    # Get the linear power spectrum at z=0 for our given cosmologies\n",
    "    # k array to be used for power spectra\n",
    "    nk = 512\n",
    "    log10kmin = -5\n",
    "    log10kmax = 2\n",
    "    ks = np.logspace(log10kmin,log10kmax,nk)\n",
    "    k = ks/h # convert to h/Mpc\n",
    "    \n",
    "    # at individual power spectra\n",
    "    pk_lin_z0 = h**3*ccl.linear_matter_power(cosmo,ks,1)\n",
    "    pk_lin_z1 = h**3*ccl.linear_matter_power(cosmo,ks,0.5)\n",
    "    pk_nl_z0 = h**3*ccl.nonlin_matter_power(cosmo,ks,1)\n",
    "    pk_nl_z1 = h**3*ccl.nonlin_matter_power(cosmo,ks,0.5)\n",
    "    \n",
    "    \n",
    "    # interpolation Pk\n",
    "    z = np.linspace(0, 1.5, 1024)\n",
    "    gz = ccl.growth_factor(cosmo, 1./(1+z))\n",
    "    sf = (1./(1+z))[::-1]\n",
    "    # Note this has switched to Mpc/h units\n",
    "    lpk_array = np.log(np.array([h**3*ccl.linear_matter_power(cosmo,ks,a) for a in sf]))\n",
    "    pk_lin = ccl.Pk2D(a_arr=sf, lk_arr=np.log(k), pk_arr=lpk_array, is_logp=True)\n",
    "    lpk_array = np.log(np.array([h**3*ccl.nonlin_matter_power(cosmo,ks,a) for a in sf]))\n",
    "    pk_nl = ccl.Pk2D(a_arr=sf, lk_arr=np.log(k), pk_arr=lpk_array, is_logp=True)\n",
    "\n",
    "## Or get from pre-computed CAMB run\n",
    "# This file is in the same examples/ folder\n",
    "d = np.loadtxt('Pk_test.dat')\n",
    "k_CAMB = d[:, 0]\n",
    "pk_CAMB = d[:, 1]\n",
    "p22 = d[:, 2]\n",
    "p13 = d[:, 3]\n",
    "\n",
    "if not have_ccl:\n",
    "    ks = k\n",
    "    pk_lin_z0 = pk\n",
    "    \n",
    "## Or get from your preferred Boltzmann code\n",
    "\n",
    "# Note: k needs to be evenly log spaced. FAST-PT will raise an error if it's not.\n",
    "\n",
    "# Note: CCL outputs in units of Mpc not Mpc/h"
   ]
  },
  {
   "cell_type": "code",
   "execution_count": 3,
   "metadata": {},
   "outputs": [],
   "source": [
    "# Galaxy biases\n",
    "b_1 = 2.0 # constant values for now. But can also be z-dependent\n",
    "b_2 = 1.0\n",
    "b_s = 1.0\n",
    "\n",
    "# Biases for IAs. Will be converted to the input c_IA values below.\n",
    "a_1 = 1.\n",
    "a_2 = 0.5\n",
    "a_d = 0.5\n",
    "\n",
    "# Let's convert the a_IA values into the correctly normalized c_IA values:\n",
    "# First, do it explicitly:\n",
    "Om_m = cosmo['Omega_m']\n",
    "rho_crit = lib.cvar.constants.RHO_CRITICAL\n",
    "rho_m = lib.cvar.constants.RHO_CRITICAL * cosmo['Omega_m']\n",
    "Om_m_fid = 0.3 #or could use DES convention and just remove Om_m/Om_m_fid\n",
    "\n",
    "c_1_t = -1*a_1*5e-14*rho_crit*cosmo['Omega_m']/gz\n",
    "c_d_t = -1*a_d*5e-14*rho_crit*cosmo['Omega_m']/gz\n",
    "c_2_t = a_2*5*5e-14*rho_crit*cosmo['Omega_m']**2/(Om_m_fid*gz**2) #Blazek2019 convention\n",
    "c_2_t = a_2*5*5e-14*rho_crit*cosmo['Omega_m']/(gz**2) #DES convention\n",
    "\n",
    "# Or we just use the built-in function for IA normalization:\n",
    "c_1,c_d,c_2 = pt.translate_IA_norm(cosmo, z, a1=a_1, a1delta=a_d, a2=a_2, Om_m2_for_c2 = False)"
   ]
  },
  {
   "cell_type": "code",
   "execution_count": 4,
   "metadata": {},
   "outputs": [],
   "source": [
    "# Set FAST-PT settings.\n",
    "\n",
    "# the to_do list sets the k-grid quantities needed in initialization (e.g. the relevant gamma functions)\n",
    "to_do = ['one_loop_dd', 'dd_bias', 'IA_all']\n",
    "\n",
    "pad_factor = 1 # padding the edges with zeros before Pk repeats\n",
    "n_pad = pad_factor*len(ks)\n",
    "low_extrap = -5 # Extend Plin to this log10 value if necessary (power law)\n",
    "high_extrap = 3 # Extend Plin to this log10 value if necessary (power law)\n",
    "P_window = None # Smooth the input power spectrum edges (typically not needed, especially with zero padding)\n",
    "C_window = .75 # Smooth the Fourier coefficients of Plin to remove high-frequency noise."
   ]
  },
  {
   "cell_type": "markdown",
   "metadata": {},
   "source": [
    "<h3> Initialize a FAST-PT object on a given k-grid. </h3>\n",
    "<h3> This step does not depend on cosmology and can be re-used, e.g. in an MCMC. </h3>"
   ]
  },
  {
   "cell_type": "code",
   "execution_count": 5,
   "metadata": {},
   "outputs": [],
   "source": [
    "# FAST-PT will parse the full to-do list and only calculate each needed quantity once.\n",
    "# Ideally, the initialization happens once per likelihood evaluation, or even once per chain.\n",
    "\n",
    "fpt_obj = fpt.FASTPT(ks,to_do=to_do,low_extrap=low_extrap,high_extrap=high_extrap,n_pad=n_pad)"
   ]
  },
  {
   "cell_type": "markdown",
   "metadata": {},
   "source": [
    "<h3> Or we can use built-in CCL functionality for FAST-PT. This uses PTTracer objects and PTCalculator.</h3>"
   ]
  },
  {
   "cell_type": "code",
   "execution_count": 6,
   "metadata": {},
   "outputs": [],
   "source": [
    "ptc = pt.PTCalculator(with_NC=True, with_IA=True,\n",
    "                      log10k_min=-4, log10k_max=2, nk_per_decade=20)\n",
    "\n",
    "# Number counts (galaxy clustering)\n",
    "ptt_g = pt.PTNumberCountsTracer(b1=b_1, b2=b_2, bs=b_s)\n",
    "\n",
    "# Intrinsic alignments\n",
    "ptt_i = pt.PTIntrinsicAlignmentTracer(c1=(z,c_1), c2=(z,c_2), cdelta=(z,c_d)) # full TATT model\n",
    "ptt_i_nla = pt.PTIntrinsicAlignmentTracer(c1=(z,c_1)) # NLA model\n",
    "\n",
    "# Matter\n",
    "ptt_m = pt.PTMatterTracer()\n",
    "\n",
    "# Note that we've assumed constant biases for simplicity, but you can also make them z-dependent:\n",
    "bz = b_1 / gz\n",
    "ptt_g_b = pt.PTNumberCountsTracer(b1=(z, bz))"
   ]
  },
  {
   "cell_type": "code",
   "execution_count": 7,
   "metadata": {},
   "outputs": [],
   "source": [
    "# Calculate some power spectra with FAST-PT\n",
    "\n",
    "# Galaxies x galaxies.\n",
    "# If `tracer2` is missing, an auto-correlation for the first tracer is assumed.\n",
    "pk_gg = pt.get_pt_pk2d(cosmo, ptt_g, ptc=ptc)\n",
    "\n",
    "# Galaxies x matter\n",
    "pk_gm = pt.get_pt_pk2d(cosmo, ptt_g, tracer2=ptt_m, ptc=ptc)\n",
    "\n",
    "# Galaxies x IAs\n",
    "pk_gi_tatt = pt.get_pt_pk2d(cosmo, ptt_g, tracer2=ptt_i, ptc=ptc)\n",
    "pk_gi_nla = pt.get_pt_pk2d(cosmo, ptt_g, tracer2=ptt_i_nla, ptc=ptc)\n",
    "\n",
    "# IAs x IAs\n",
    "pk_ii, pk_ii_bb = pt.get_pt_pk2d(cosmo, ptt_i, tracer2=ptt_i, ptc=ptc, return_ia_ee_and_bb=True)\n",
    "pk_ii_nla = pt.get_pt_pk2d(cosmo, ptt_i_nla, tracer2=ptt_i_nla, ptc=ptc)\n",
    "\n",
    "# IAs x matter\n",
    "pk_im = pt.get_pt_pk2d(cosmo, ptt_i, tracer2=ptt_m, ptc=ptc)\n",
    "\n",
    "# Matter x matter\n",
    "pk_mm = pt.get_pt_pk2d(cosmo, ptt_m, tracer2=ptt_m, ptc=ptc)"
   ]
  },
  {
   "cell_type": "markdown",
   "metadata": {},
   "source": [
    "<h3> Evaluate the NLA model. </h3>"
   ]
  },
  {
   "cell_type": "code",
   "execution_count": 8,
   "metadata": {},
   "outputs": [
    {
     "data": {
      "image/png": "[encoded data removed]",
      "text/plain": [
       "<Figure size 432x288 with 1 Axes>"
      ]
     },
     "metadata": {
      "needs_background": "light"
     },
     "output_type": "display_data"
    }
   ],
   "source": [
    "zz=0\n",
    "# These are the NLA model power spectra calculated by hand:\n",
    "c_1_zz,c_d_zz,c_2_zz = pt.translate_IA_norm(cosmo, zz, a1=a_1, a1delta=a_d, a2=a_2, Om_m2_for_c2 = False)\n",
    "pk_nl0=pk_nl.eval(k,1./(1+zz),cosmo)\n",
    "p_GI_zz = c_1_zz*pk_nl0\n",
    "p_II_zz = c_1_zz**2*pk_nl0\n",
    "p_gI_zz = b_1*p_GI_zz\n",
    "\n",
    "# This is the NLA model, from CCL:\n",
    "# need to be careful with factors of h in both k and Pk.\n",
    "# All internal CCL calculations use Mpc instead of Mpc/h\n",
    "# So we evaluate at ks and multiply by h**3:\n",
    "p_gI_ccl = h**3*pk_gi_nla.eval(ks,1./(1+zz),cosmo)\n",
    "p_II_ccl = h**3*pk_ii_nla.eval(ks,1./(1+zz),cosmo)\n",
    "\n",
    "#This is the full TATT model, from CCL\n",
    "p_gI_tatt = h**3*pk_gi_tatt.eval(ks,1./(1+zz),cosmo)\n",
    "\n",
    "plt.loglog()\n",
    "plt.plot(k,-1*p_gI_zz,label='-GI')\n",
    "plt.plot(k,p_II_zz,label='II')\n",
    "plt.plot(k,-1*p_gI_ccl,label='-GI CCLPT')\n",
    "plt.plot(k,p_II_ccl,label='II CCLPT')\n",
    "plt.legend(loc='upper right', ncol=2, fontsize=13)\n",
    "plt.xlabel(r'$k\\,\\,[{\\rm (Mpc/h)}^{-1}]$', fontsize=15)\n",
    "plt.ylabel(r'$P(k)\\,\\,[{\\rm (Mpc/h)^{3}}]$', fontsize=15)\n",
    "plt.show()"
   ]
  },
  {
   "cell_type": "markdown",
   "metadata": {},
   "source": [
    "They agree, although there are different extrapolations outside the primary k range."
   ]
  },
  {
   "cell_type": "markdown",
   "metadata": {},
   "source": [
    "<h3> FAST-PT includes an implementation of FFTLog for Bessel transforms. </h3>"
   ]
  },
  {
   "cell_type": "code",
   "execution_count": 9,
   "metadata": {},
   "outputs": [
    {
     "name": "stderr",
     "output_type": "stream",
     "text": [
      "/Users/blazek/Packages/anaconda3/envs/ccl/lib/python3.6/site-packages/mcfit/mcfit.py:125: UserWarning: The default value of lowring has been changed to False, set it to True if you cannot reproduce previous results\n",
      "  warnings.warn(\"The default value of lowring has been changed to False, \"\n",
      "/Users/blazek/Packages/anaconda3/envs/ccl/lib/python3.6/site-packages/mcfit/mcfit.py:219: UserWarning: The default value of extrap has been changed to False, set it to True if you cannot reproduce previous results\n",
      "  warnings.warn(\"The default value of extrap has been changed to False, \"\n"
     ]
    },
    {
     "data": {
      "text/plain": [
       "<matplotlib.legend.Legend at 0x12417bac8>"
      ]
     },
     "execution_count": 9,
     "metadata": {},
     "output_type": "execute_result"
    },
    {
     "data": {
      "image/png": "[encoded data removed]",
      "text/plain": [
       "<Figure size 432x288 with 1 Axes>"
      ]
     },
     "metadata": {
      "needs_background": "light"
     },
     "output_type": "display_data"
    }
   ],
   "source": [
    "# Calculate the standard correlation function\n",
    "r,xi = HT.k_to_r(k,pk_nl0,1.5,-1.5,.5, (2.*np.pi)**(-1.5))\n",
    "\n",
    "if have_mcfit:\n",
    "    # can test the transform with other code, e.g. mcfit\n",
    "    rr,xxi = P2xi(k)(pk_nl0)\n",
    "if have_ccl:\n",
    "    # can also compare to the output from CCL\n",
    "    kmin, kmax, nk = 1e-4, 1e1, 128\n",
    "    rmin, rmax, nr = 1, 2e2, 128\n",
    "    kccl = np.logspace(np.log10(kmin), np.log10(kmax), nk) # Wavenumber\n",
    "    rccl = np.logspace(np.log10(rmin), np.log10(rmax), nr)\n",
    "    a = 1. # Scale factor a z=0\n",
    "    xi_nl = ccl.correlation_3d(cosmo,a, rccl)\n",
    "\n",
    "# Make a plot\n",
    "plt.plot(r,xi, 'k', linewidth=3,label=r'$\\xi_{nl}$')\n",
    "if have_ccl:\n",
    "    plt.plot(h*rccl,xi_nl, 'b', label=r'$\\xi_{nl}(k)$ CCL nonlin HF')\n",
    "    #remember the factor of h for CCL\n",
    "if have_mcfit:\n",
    "    plt.plot(rr ,xxi, 'y--', label=r'$\\xi_{nl}(k)$ mcfit')\n",
    "\n",
    "plt.xscale('log')\n",
    "plt.yscale('log')\n",
    "plt.xlabel('$r [Mpc/h]$', fontsize=14)\n",
    "plt.ylabel(r'$\\xi$', fontsize=14)\n",
    "plt.xlim(1e0,2e2)\n",
    "plt.ylim(1e-4,1e2)\n",
    "plt.legend(loc='lower left', fontsize=12, frameon=False)"
   ]
  },
  {
   "cell_type": "markdown",
   "metadata": {},
   "source": [
    "<h3> $w_{g+}$ is a $J_2$ transform</h3>"
   ]
  },
  {
   "cell_type": "code",
   "execution_count": 10,
   "metadata": {},
   "outputs": [
    {
     "data": {
      "text/plain": [
       "<matplotlib.legend.Legend at 0x11087a400>"
      ]
     },
     "execution_count": 10,
     "metadata": {},
     "output_type": "execute_result"
    },
    {
     "data": {
      "image/png": "[encoded data removed]",
      "text/plain": [
       "<Figure size 432x288 with 1 Axes>"
      ]
     },
     "metadata": {
      "needs_background": "light"
     },
     "output_type": "display_data"
    }
   ],
   "source": [
    "# In the Limber approximation, w_g+ is a simple calculation:\n",
    "\n",
    "# For the J2 transform (e.g. DeltaSigma or w_g+)\n",
    "r,xi_2=HT.k_to_r(k,pk_nl0,1.,-1.,2., 4.*np.pi*np.sqrt(np.pi/2.))\n",
    "\n",
    "# Make a plot\n",
    "plt.plot(r,xi_2, 'k', label=r'$\\xi_{lin}(k)$ cosmo 1')\n",
    "\n",
    "plt.xscale('log')\n",
    "plt.yscale('log')\n",
    "plt.xlabel('$r$ [Mpc/h]', fontsize=14)\n",
    "plt.ylabel(r'$w_{g+}$ [Mpc/h]', fontsize=14)\n",
    "plt.xlim(1e0,2e2)\n",
    "plt.ylim(1e1,1e4)\n",
    "plt.legend(loc='lower left', fontsize=12, frameon=False)"
   ]
  },
  {
   "cell_type": "markdown",
   "metadata": {},
   "source": [
    "# Now we calculate the properly normalized version"
   ]
  },
  {
   "cell_type": "code",
   "execution_count": 19,
   "metadata": {},
   "outputs": [],
   "source": [
    "# note the correct pre-factor for w_g+ (see e.g. Blazek2015)\n",
    "r,wgplus_tatt=HT.k_to_r(k,p_gI_tatt,1.,-1.,2., -1./(2*np.pi))\n",
    "r,wgplus_nla=HT.k_to_r(k,p_gI_zz,1.,-1.,2., -1./(2*np.pi))\n",
    "#r,wgplus_nla=HT.k_to_r(k,p_gI_zz,1.,-1.,2., 4.*np.pi*np.sqrt(np.pi/2.))\n",
    "r,wgplus_nla_ccl=HT.k_to_r(k,p_gI_ccl,1.,-1.,2., -1./(2*np.pi))"
   ]
  },
  {
   "cell_type": "code",
   "execution_count": 20,
   "metadata": {},
   "outputs": [
    {
     "data": {
      "text/plain": [
       "<matplotlib.legend.Legend at 0x1240a9048>"
      ]
     },
     "execution_count": 20,
     "metadata": {},
     "output_type": "execute_result"
    },
    {
     "data": {
      "image/png": "[encoded data removed]",
      "text/plain": [
       "<Figure size 432x288 with 1 Axes>"
      ]
     },
     "metadata": {
      "needs_background": "light"
     },
     "output_type": "display_data"
    }
   ],
   "source": [
    "# Make a plot\n",
    "plt.plot(r,wgplus_tatt), 'k', label=r'tatt')\n",
    "plt.plot(r,abs(wgplus_nla), 'b', label=r'nla')\n",
    "plt.plot(r,abs(wgplus_nla_ccl), 'r--', label=r'nla (CCL)')\n",
    "\n",
    "plt.xscale('log')\n",
    "plt.yscale('log')\n",
    "plt.xlabel('$r$', fontsize=14)\n",
    "plt.ylabel(r'$w_{g+}$', fontsize=14)\n",
    "plt.xlim(1e0,2e2)\n",
    "plt.ylim(1e-3,1e0)\n",
    "plt.legend(loc='upper right', fontsize=12, frameon=False)"
   ]
  },
  {
   "cell_type": "markdown",
   "metadata": {},
   "source": []
  },
  {
   "cell_type": "code",
   "execution_count": null,
   "metadata": {},
   "outputs": [],
   "source": []
  }
 ],
 "metadata": {
  "kernelspec": {
   "display_name": "Python [conda env:ccl] *",
   "language": "python",
   "name": "conda-env-ccl-py"
  },
  "language_info": {
   "codemirror_mode": {
    "name": "ipython",
    "version": 3
   },
   "file_extension": ".py",
   "mimetype": "text/x-python",
   "name": "python",
   "nbconvert_exporter": "python",
   "pygments_lexer": "ipython3",
   "version": "3.6.10"
  }
 },
 "nbformat": 4,
 "nbformat_minor": 2
}
